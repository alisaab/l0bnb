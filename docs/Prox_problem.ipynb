{
 "cells": [
  {
   "cell_type": "markdown",
   "metadata": {},
   "source": [
    "## Prox problem"
   ]
  },
  {
   "cell_type": "markdown",
   "metadata": {},
   "source": [
    "The function of $\\beta$ whose prox we want is \n",
    "$$\n",
    "\\varphi(\\beta) = \\inf_{s,z \\in \\mathbb{R}^p \\times \\mathbb{R}^p} \\sum_i \\frac{\\lambda_2}{2} s_i\n",
    "$$\n",
    "subject to \n",
    "$$\n",
    "\\begin{aligned}\n",
    "\\sum_i z_i &= C \\\\\n",
    "\\beta_i^2& \\leq s_i z_i \\\\\n",
    "\\beta_i &\\in [-Mz_i,Mz_i] \\\\\n",
    "z_i &\\in [0,1] \\\\\n",
    "s_i &\\geq 0\n",
    "\\end{aligned}\n",
    "$$\n",
    "\n",
    "That is, we want to be able to solve, for some $v \\in \\mathbb{R}^p$ and arbitrary $L>0$\n",
    "$$\n",
    "\\text{minimize}_{\\beta \\in \\mathbb{R}^p} \\frac{L}{2} \\|\\beta\\|^2_2 - v^T\\beta + \\varphi(\\beta).\n",
    "$$\n",
    "\n"
   ]
  },
  {
   "cell_type": "markdown",
   "metadata": {},
   "source": [
    "### Eliminating $s_i$\n",
    "\n",
    "We can get rid of the $s_i$'s above in the definition of $g=\\varphi$\n",
    "\n",
    "$$\n",
    "\\varphi(\\beta) = \\inf_{z \\in \\mathbb{R}^p } \\sum_i \\frac{\\lambda_2}{2} \\frac{\\beta_i^2}{z_i}\n",
    "$$\n",
    "subject to \n",
    "$$\n",
    "\\begin{aligned}\n",
    "\\sum_i z_i &= C \\\\\n",
    "\\beta_i &\\in [-Mz_i,Mz_i] \\\\\n",
    "z_i &\\in [0,1] \\\\\n",
    "\\end{aligned}\n",
    "$$\n",
    "\n",
    "### Conjugate \n",
    "\n",
    "For $v \\in \\mathbb{R}^p$ we also will need to compute\n",
    "$$\n",
    " \\begin{aligned}\n",
    " \\varphi^*(v) &=\n",
    "\\sup_{\\beta \\in \\mathbb{R}^p} \\left[\\beta^Tv - \\inf_{z \\in \\mathbb{R}^p} \\frac{\\lambda_2}{2} \\sum_i \\frac{\\beta_i^2}{z_i} \\right] \\\\\n",
    "&= \n",
    "\\sup_{\\beta, z \\in \\mathbb{R}^p \\times \\mathbb{R}^p} \\left[\\beta^Tv - \\frac{\\lambda_2}{2} \\sum_i \\frac{\\beta_i^2}{z_i} \\right]\n",
    "\\end{aligned}\n",
    "$$\n",
    "subject to\n",
    "$$\n",
    "\\begin{aligned}\n",
    "\\sum_i z_i &= C \\\\\n",
    "\\beta_i &\\in [-Mz_i,Mz_i] \\\\\n",
    "z_i &\\in [0,1] \\\\\n",
    "\\end{aligned}.\n",
    "$$"
   ]
  },
  {
   "cell_type": "markdown",
   "metadata": {},
   "source": [
    "We can solve for $\\beta_i$ in closed form\n",
    "$$\n",
    "\\beta^*_i(z,v) = \\text{sign}(v_i) \\cdot \\min\\left(M z_i, \\frac{z_i |v_i|}{\\lambda_2} \\right)\n",
    "$$\n",
    "\n",
    "\n",
    "\n",
    "### Special case $M=\\infty$\n",
    "\n",
    "In this case\n",
    "$$\n",
    "\\beta^*_i(z,v) = \\frac{z_i v_i}{\\lambda_2}.\n",
    "$$\n",
    "\n",
    "Plugging this in yields\n",
    "$$\n",
    "\\varphi^*(v) = \\sup_{z \\in \\mathbb{R}^p} \\frac{1}{2 \\lambda_2} \\sum_i z_i v_i^2\n",
    "$$\n",
    "subject to\n",
    "$$\n",
    "\\begin{aligned}\n",
    "\\sum_i z_i &= C \\\\\n",
    "z_i &\\in [0,1] \\\\\n",
    "\\end{aligned}.\n",
    "$$\n",
    "\n",
    "This is solved by sorting the $v_i$'2. When $C$ is an integer, we take the top $C$ and sum them. If it's not an integer, take the top $\\lfloor C \\rfloor + 1$, sum the first $\\lfloor C \\rfloor$ and add $C-\\lfloor C \\rfloor$ times the $\\lfloor C \\rfloor + 1$-st."
   ]
  },
  {
   "cell_type": "markdown",
   "metadata": {},
   "source": [
    "### General case\n",
    "\n",
    "When $|v_i| > M \\cdot \\lambda_2$ we have\n",
    "$$\n",
    "\\beta_i^*(z,v) = \\text{sign}(v_i) M z_i\n",
    "$$\n",
    "otherwise\n",
    "$$\n",
    "\\beta_i^*(z,v) = \\frac{z_iv_i}{\\lambda_2}.\n",
    "$$\n",
    "\n",
    "Plugging this in yields a term\n",
    "$$\n",
    "\\begin{aligned}\n",
    "\\beta^*(z,v)^Tv &= \\sum_{i: |v_i| > M \\cdot \\lambda_2} \\beta_i^*(z,v) v_i + \\sum_{i: |v_i| \\leq M \\cdot \\lambda_2}  \\beta_i^*(z,v) v_i \\\\\n",
    "&= M \\sum_{i: |v_i| > M \\cdot \\lambda_2} z_i|v_i| + \\sum_{i: |v_i| \\leq M \\cdot \\lambda_2} \\frac{z_i v_i^2}{\\lambda_2} \\\\\n",
    "\\end{aligned}\n",
    "$$"
   ]
  },
  {
   "cell_type": "markdown",
   "metadata": {},
   "source": [
    "There is another term we must subtract\n",
    "$$\n",
    "\\begin{aligned}\n",
    "\\frac{\\lambda_2}{2} \\sum_i \\frac{\\beta^*_i(z,v)^2}{z_i} &= \\frac{\\lambda_2}{2} \\left[\\sum_{i: |v_i| > M \\cdot \\lambda_2} \\frac{\\beta_i^*(z,v)^2}{z_i} + \\sum_{i: |v_i| \\leq M \\cdot \\lambda_2} \\frac{\\beta_i^*(z,v)^2}{z_i} \\right] \\\\\n",
    "&= \\frac{\\lambda_2}{2} \\left[\\sum_{i: |v_i| > M \\cdot \\lambda_2} M^2 z_i + \\sum_{i: |v_i| \\leq M \\cdot \\lambda_2} \\frac{z_i v_i^2}{\\lambda_2^2} \\right] \\\\\n",
    "\\end{aligned}\n",
    "$$"
   ]
  },
  {
   "cell_type": "markdown",
   "metadata": {},
   "source": [
    "We see that\n",
    "$$\n",
    "\\varphi^*(v) =\\sup_z \\left[ \\sum_{i: |v_i| > M \\cdot \\lambda_2} z_i \\left(M|v_i|-\\frac{M^2 \\lambda_2}{2} \\right) +   \\sum_{i: |v_i| \\leq M \\cdot \\lambda_2} \\frac{z_i v_i^2}{2 \\lambda_2} \\right]\n",
    "$$\n",
    "subject to\n",
    "$$\n",
    "\\begin{aligned}\n",
    "\\sum_i z_i &= C \\\\\n",
    "z_i &\\in [0,1] \\\\\n",
    "\\end{aligned}.\n",
    "$$\n",
    "\n",
    "This has a similar solution to the general case, we are just sorting slightly different values."
   ]
  },
  {
   "cell_type": "code",
   "execution_count": 40,
   "metadata": {},
   "outputs": [
    {
     "data": {
      "text/plain": [
       "661.7197890451805"
      ]
     },
     "execution_count": 40,
     "metadata": {},
     "output_type": "execute_result"
    }
   ],
   "source": [
    "import numpy as np\n",
    "def dual_cost(v, lam_2, M, C):\n",
    "    idx = np.fabs(v) > M * lam_2\n",
    "    vals = np.zeros_like(v)\n",
    "    vals[idx] = M * np.fabs(v[idx]) - M**2 * lam_2 / 2\n",
    "    vals[~idx] = v[~idx]**2 / (2 * lam_2)\n",
    "    vals = np.sort(vals)[::-1]\n",
    "    \n",
    "    Cf = int(np.floor(C))\n",
    "    delta = C - Cf\n",
    "    \n",
    "    return vals[:Cf].sum() + delta * vals[Cf]\n",
    "    \n",
    "v = np.random.standard_normal(100)\n",
    "dual_cost(v, 0.01, 100, 4.0)"
   ]
  },
  {
   "cell_type": "markdown",
   "metadata": {},
   "source": [
    "### Back to prox problem\n",
    "\n",
    "The prox problem is\n",
    "$$\n",
    "\\text{minimize}_{\\beta \\in \\mathbb{R}^p} \\frac{L}{2} \\|\\beta\\|^2_2 - v^T\\beta + \\frac{\\lambda_2}{2} \\inf_{z \\in \\mathbb{R}^p} \\sum_i \\frac{\\beta_i^2}{z_i} \\\\\n",
    "$$\n",
    "subject to\n",
    "$$\n",
    "\\begin{aligned}\n",
    "\\beta_i &\\in [-Mz_i,Mz_i] \\\\\n",
    "\\sum_i z_i &= C \\\\\n",
    "z_i &\\in [0,1] \\\\\n",
    "\\end{aligned}.\n",
    "$$\n",
    "\n",
    "Its value is\n",
    "$$\n",
    "\\inf_{\\beta, z \\in \\mathbb{R}^p \\times \\mathbb{R}^p}  \\frac{L}{2} \\|\\beta\\|^2_2 - v^T\\beta + \\frac{\\lambda_2}{2}  \\sum_i \\frac{\\beta_i^2}{z_i}\n",
    "$$\n",
    "subject to\n",
    "$$\n",
    "\\begin{aligned}\n",
    "\\beta_i &\\in [-Mz_i,Mz_i] \\\\\n",
    "\\sum_i z_i &= C \\\\\n",
    "z_i &\\in [0,1] \\\\\n",
    "\\end{aligned}.\n",
    "$$"
   ]
  },
  {
   "cell_type": "markdown",
   "metadata": {},
   "source": [
    "We can again explicitly solve for \n",
    "$$\n",
    "\\beta^*_i(z,v) = \\text{sign}(v_i) \\cdot \\min\\left(M z_i, \\frac{|v_i|}{ L + \\lambda_2/z_i} \\right)\n",
    "$$"
   ]
  },
  {
   "cell_type": "markdown",
   "metadata": {},
   "source": [
    "Plugging this in yields a term\n",
    "$$\n",
    "\\begin{aligned}\n",
    "\\beta^*(z,v)^Tv &= \\sum_{i: |v_i| > (M \\cdot \\lambda_2 + M z_i L)} \\beta_i^*(z,v) v_i + \\sum_{i: |v_i| \\leq (M \\cdot \\lambda_2 + M z_i L)}  \\beta_i^*(z,v) v_i \\\\\n",
    "&= M \\sum_{i: |v_i| > (M \\cdot \\lambda_2 + M z_i L)} z_i |v_i| + \\sum_{i: |v_i| \\leq (M \\cdot \\lambda_2 + M z_i L)} \\frac{v_i^2}{L+\\lambda_2/z_i} \\\\\n",
    "\\end{aligned}\n",
    "$$"
   ]
  },
  {
   "cell_type": "markdown",
   "metadata": {},
   "source": [
    "The quadratic term is\n",
    "$$\n",
    "\\begin{aligned}\n",
    "\\frac{1}{2} \\sum_i \\beta^*_i(z,v)^2 \\left[\\frac{\\lambda_2}{z_i} + L \\right]  &= \\frac{1}{2} \\left[\\sum_{i: |v_i| > (M \\cdot \\lambda_2+ M z_i L)}\\beta_i^*(z,v)^2 \\left[ L + \\frac{\\lambda_2}{z_i} \\right] + \\sum_{i: |v_i| \\leq (M \\cdot \\lambda_2 + M z_i L)} \\beta_i^*(z,v)^2 \\left[L + \\frac{\\lambda_2}{z_i}\\right] \\right] \\\\\n",
    "&= \\frac{1}{2} \\left[\\sum_{i: |v_i| > (M \\cdot \\lambda_2 + M z_i L)} M^2 z_i^2  \\left[L + \\frac{\\lambda_2}{z_i}\\right] + \\sum_{i: |v_i| \\leq (M \\cdot \\lambda_2 + M z_i L)} \\frac{v_i^2}{L+\\lambda_2/z_i} \\right] \\\\\n",
    "\\end{aligned}\n",
    "$$"
   ]
  },
  {
   "cell_type": "markdown",
   "metadata": {},
   "source": [
    "So we want to solve\n",
    "$$\n",
    "\\text{minimize}_{z \\in \\mathbb{R}^p} \\left[\\sum_{i: |v_i| >(M \\cdot \\lambda_2 + M z_i L)}\\left( \\frac{1}{2}M^2 z_i^2 \\left[ L + \\frac{\\lambda_2}{z_i} \\right] - Mz_i |v_i| \\right)- \\frac{1}{2} \\sum_{i: |v_i| \\leq (M \\cdot \\lambda_2 + M z_i L)} \\frac{v_i^2}{L+\\lambda_2/z_i} \\right]  \n",
    "$$\n",
    "subject to\n",
    "$$\n",
    "\\begin{aligned}\n",
    "\\sum_i z_i &= C \\\\\n",
    "z_i &\\in [0,1] \\\\\n",
    "\\end{aligned}.\n",
    "$$"
   ]
  },
  {
   "cell_type": "markdown",
   "metadata": {},
   "source": [
    "Introducing a Lagrange parameter $\\delta$ it separates over $z_i$ to\n",
    "$$\n",
    "\\text{minimize}_{z \\in \\mathbb{R}^p} \\left[\\sum_{i: |v_i| > (M \\cdot \\lambda_2 + M z_i L)} \\left( \\frac{1}{2}M^2 z_i^2 \\left[ L + \\frac{\\lambda_2}{z_i} \\right] - Mz_i |v_i| \\right) - \\frac{1}{2} \\sum_{i: |v_i| \\leq (M \\cdot \\lambda_2 + M z_i L)} \\frac{v_i^2}{L+\\lambda_2/z_i} + \\delta \\left(\\sum_i z_i - C\\right) \\right]  \n",
    "$$\n",
    "subject to\n",
    "$$\n",
    "\\begin{aligned}\n",
    "z_i &\\in [0,1] \\\\\n",
    "\\end{aligned}.\n",
    "$$"
   ]
  },
  {
   "cell_type": "markdown",
   "metadata": {},
   "source": [
    "When we find a $\\delta^*(v)$ such that $\\sum_i z_i=C$ (and bounded in [0,1]), this will yield $z^*(v)$ we then plug this back into the expression for $\\beta^*_i(z^*(v),v)$. We will have then found a $\\beta(v)$ that achieves the value in the proximal problem. Since the optimizer is unique we will have solved the prox problem."
   ]
  },
  {
   "cell_type": "markdown",
   "metadata": {},
   "source": [
    "### A little closer look\n",
    "\n",
    "Let's look at the values\n",
    "$$\n",
    "\\tau_i = \\frac{|v_i|-\\lambda_2 \\cdot M}{L \\cdot M}.\n",
    "$$\n",
    "\n",
    "The set \n",
    "$$\n",
    "\\{i: |v_i| > M \\cdot \\lambda_2 + M z_i L\\} = \\left\\{i: \\tau_i > z_i\\right\\}.\n",
    "$$"
   ]
  },
  {
   "cell_type": "markdown",
   "metadata": {},
   "source": [
    "#### Case 1: $\\tau_i \\geq 1$\n",
    "\n",
    "If $\\tau_i \\geq 1$ the function of (as a function of $z_i$) is simply quadratic which we minimize over $[0,1]$. This quadratic has its global minimum at\n",
    "$$\n",
    "z_i^*(v_i,\\delta) = \\frac{M |v_i|-M^2 \\lambda_2 -\\delta}{M^2L} = \\tau_i - \\frac{\\delta}{M^2L}.\n",
    "$$\n",
    "\n",
    "Hence, when $\\tau_i > 1$ we have\n",
    "$$\n",
    "z^*_i(v_i,\\delta) = \\begin{cases} \n",
    "1 & \\tau_i - \\frac{\\delta}{M^2L} > 1 \\\\\n",
    "\\tau_i - \\frac{\\delta}{M^2L} & 0 < \\tau_i - \\frac{\\delta}{M^2L} < 1 \\\\\n",
    "0 & \\tau_i - \\frac{\\delta}{M^2L}<0\n",
    "\\end{cases} = {\\tt np.clip}\\left(\\tau_i - \\frac{\\delta}{M^2L}, 0, 1 \\right)\n",
    "$$\n"
   ]
  },
  {
   "cell_type": "markdown",
   "metadata": {},
   "source": [
    "#### Case 2: $\\tau_i \\leq 0$\n",
    "\n",
    "If $\\tau_i \\leq 0$ then as a function of $z_i$ is\n",
    "$$\n",
    "\\begin{aligned}\n",
    "\\frac{-z_i v_i^2}{2(Lz_i + \\lambda_2)} + \\delta z_i& = -\\frac{v_i^2}{2L} \\frac{Lz_i}{Lz_i + \\lambda_2} + \\delta z_i \\\\\n",
    "&= \\frac{v_i^2}{2L} \\left[\\frac{\\lambda_2}{Lz_i + \\lambda_2}-1 \\right] + \\delta z_i\n",
    "\\end{aligned}\n",
    "$$\n",
    "which we want to minimize over $z_i \\in [0,1]$."
   ]
  },
  {
   "cell_type": "markdown",
   "metadata": {},
   "source": [
    "We note first that for $\\delta \\leq 0$ we have\n",
    "$$\n",
    "z^*_i(v_i, \\delta) = 1\n",
    "$$"
   ]
  },
  {
   "cell_type": "markdown",
   "metadata": {},
   "source": [
    "Differentiating yields\n",
    "$$\n",
    "-L\\frac{v_i^2\\lambda_2}{2L}(L z_i+\\lambda_2)^{-2} + \\delta.\n",
    "$$"
   ]
  },
  {
   "cell_type": "markdown",
   "metadata": {},
   "source": [
    "Setting equal to zero yields an equation (with a solution only when $\\delta > 0$).\n",
    "$$\n",
    "(Lz_i + \\lambda_2)^2 = \\frac{v_i^2 \\lambda_2}{2\\delta}$$\n",
    "This will have a root in $[0,1]$ if \n",
    "$$\n",
    "\\frac{1}{L} \\left(\\frac{|v_i| \\sqrt{\\lambda_2}}{\\sqrt{2 \\delta}} - \\lambda_2\\right) \\in [0,1]\n",
    "$$"
   ]
  },
  {
   "cell_type": "markdown",
   "metadata": {},
   "source": [
    "If this expression is $>1$ the optimizer will be $z^*_i(v_i,\\delta)=1$. On the other hand, if this expression\n",
    "is $<0$ then the derivative of our function of $z_i$ is strictly non-negative on $[0,\\infty)$ hence the minimizer will be 0. We see again that for case 2 with $\\delta > 0$\n",
    "$$\n",
    "z_i^*(v_i,\\delta) = {\\tt np.clip} \\left(\\frac{1}{L} \\left(\\frac{|v_i| \\sqrt{\\lambda_2}}{\\sqrt{2 \\delta}} - \\lambda_2\\right), 0, 1 \\right)\n",
    "$$\n",
    "\n"
   ]
  },
  {
   "cell_type": "markdown",
   "metadata": {},
   "source": [
    "#### Case 3: $0 < \\tau_i < 1$\n",
    "\n",
    "If $\\delta \\leq 0$ then the quadratic has a root of its gradient to the right of $\\tau_i$ and hence the minimizer is either the root of the gradient or 1.\n",
    "\n",
    "If $\\delta > 0$ the quadratic case ($z_i>\\tau_i$) is strictly increasing on $(\\tau_i,1)$ so there is no root of the gradient there and the minimizer must be in $[0,\\tau_i]$. \n",
    "So, if $\\delta > 0$ the rational piece will either have a zero of its gradient on $[0,\\tau_i]$ or the minimizer will be $\\tau_i$ or 0 and\n",
    "$$\n",
    "z_i^*(v_i,\\delta) =\n",
    "\\begin{cases}\n",
    "{\\tt np.clip} \\left(\\frac{1}{L} \\left(\\frac{|v_i| \\sqrt{\\lambda_2}}{\\sqrt{2 L \\delta}} - \\lambda_2\\right), 0, \\tau_i \\right) & \\delta > 0 \\\\\n",
    "{\\tt np.clip}\\left(\\tau_i - \\frac{\\delta}{M^2L}, \\tau_i, 1 \\right) & \\delta \\leq 0.\n",
    "\\end{cases}\n",
    "$$"
   ]
  },
  {
   "cell_type": "code",
   "execution_count": 97,
   "metadata": {},
   "outputs": [
    {
     "data": {
      "text/plain": [
       "[63.217877323632194,\n",
       " 63.21709837626378,\n",
       " 63.21631942889536,\n",
       " 63.21554048152694,\n",
       " 63.21476153415851,\n",
       " 63.21398258679009,\n",
       " 63.21320363942168,\n",
       " 63.21242469205325,\n",
       " 63.21164574468484,\n",
       " 63.21086679731641,\n",
       " 6.291636468761487,\n",
       " 3.7214361930575466,\n",
       " 2.9300543697329173,\n",
       " 2.508939435206233,\n",
       " 2.2375303720086284,\n",
       " 2.044015794071494,\n",
       " 1.8970874091722305,\n",
       " 1.7806258632803766,\n",
       " 1.685375057841543,\n",
       " 1.6055909116957128]"
      ]
     },
     "execution_count": 97,
     "metadata": {},
     "output_type": "execute_result"
    }
   ],
   "source": [
    "def almost_prox(v, lips, lam_2, M, delta):\n",
    "    \n",
    "    L = lips\n",
    "    \n",
    "    soln = np.zeros_like(v)\n",
    "    if not np.isinf(M):\n",
    "        bdry = (np.fabs(v) - lam_2 * M) / (L*M) # \\tau\n",
    "    else:\n",
    "        bdry = - lam_2 * np.ones_like(v)\n",
    "    \n",
    "    root_quadratic = bdry - delta / (M**2 * L)\n",
    "    if delta > 0:\n",
    "        root_rational = np.fabs(v) * np.sqrt(lam_2) / (np.sqrt(2 * L * delta) * L)\n",
    "    \n",
    "    ## Case 1\n",
    "    \n",
    "    idx1 = bdry >= 1\n",
    "    soln[idx1] = np.clip(root_quadratic[idx1], 0, 1)\n",
    "    \n",
    "    ## Case 2\n",
    "    \n",
    "    idx2 = bdry <= 0\n",
    "    if delta > 0:\n",
    "        soln[idx2] = np.clip(root_rational[idx2], 0, 1)\n",
    "    else:\n",
    "        soln[idx2] = 1\n",
    "        \n",
    "    ## Case 3\n",
    "    \n",
    "    idx3 = (bdry > 0) * (bdry < 1)\n",
    "    if delta > 0:\n",
    "        soln[idx3] = np.clip(root_rational[idx3], 0, bdry[idx3])\n",
    "    else:\n",
    "        soln[idx3] = np.clip(root_quadratic[idx3], bdry[idx3], 1)\n",
    "        \n",
    "    return soln\n",
    "\n",
    "v = np.random.standard_normal(100)\n",
    "[almost_prox(v, 1, 0.01, 100, d).sum() for d in np.linspace(-2,2,20)]\n",
    "    "
   ]
  },
  {
   "cell_type": "code",
   "execution_count": 120,
   "metadata": {},
   "outputs": [],
   "source": [
    "from scipy.optimize import root_scalar\n",
    "import functools\n",
    "\n",
    "def prox(v, lips, lam_2, M, C, delta=1):\n",
    "    \n",
    "    val = almost_prox(v, lips, lam_2, M, delta).sum()\n",
    "    \n",
    "    if val > C:\n",
    "        # want to increase delta\n",
    "        L = delta\n",
    "        \n",
    "        if delta > 0:\n",
    "            U = 10 * delta\n",
    "        else:\n",
    "            U = 1\n",
    "            \n",
    "        while True:\n",
    "            val = almost_prox(v, lips, lam_2, M, U).sum()\n",
    "            if val < C:\n",
    "                break\n",
    "            U *= 10\n",
    "    else:\n",
    "        # want to decrease delta\n",
    "        U = delta\n",
    "        if delta < 0:\n",
    "            L = 10 * delta\n",
    "        else:\n",
    "            L = -1\n",
    "            \n",
    "        while True:\n",
    "            val = almost_prox(v, lips, lam_2, M, L).sum()\n",
    "            if val > C:\n",
    "                break\n",
    "            L *= 10\n",
    "    \n",
    "    def fsum(v, lips, lam_2, M, C, delta):\n",
    "        return almost_prox(v, lips, lam_2, M, delta).sum() - C\n",
    "    f = functools.partial(fsum, v, lips, lam_2, M, C)\n",
    "    delta_star = root_scalar(f, method='bisect', bracket=(L, U)).root\n",
    "\n",
    "    return almost_prox(v, lips, lam_2, M, delta_star)"
   ]
  },
  {
   "cell_type": "code",
   "execution_count": 121,
   "metadata": {},
   "outputs": [
    {
     "name": "stdout",
     "output_type": "stream",
     "text": [
      "3.02 ms ± 15.3 µs per loop (mean ± std. dev. of 7 runs, 100 loops each)\n"
     ]
    }
   ],
   "source": [
    "%%timeit\n",
    "proxv = prox(v, 1, 0.01, 100, 8)\n",
    "proxv.sum()"
   ]
  },
  {
   "cell_type": "code",
   "execution_count": 122,
   "metadata": {},
   "outputs": [
    {
     "name": "stdout",
     "output_type": "stream",
     "text": [
      "3 ms ± 20.6 µs per loop (mean ± std. dev. of 7 runs, 100 loops each)\n"
     ]
    }
   ],
   "source": [
    "%%timeit\n",
    "proxv = prox(v, 1, 0.01, np.inf, 8)\n",
    "proxv.sum()"
   ]
  },
  {
   "cell_type": "code",
   "execution_count": 126,
   "metadata": {},
   "outputs": [
    {
     "data": {
      "text/plain": [
       "array([0.43648729, 1.        , 0.69723757, 1.        , 0.65901379,\n",
       "       1.        , 0.15874157, 1.        , 1.        , 1.        ,\n",
       "       1.        , 1.        , 1.        , 0.68173953, 1.        ,\n",
       "       1.        , 1.        , 0.81421226, 1.        , 0.55770886,\n",
       "       1.        , 0.84622718, 1.        , 1.        , 1.        ,\n",
       "       1.        , 0.7964272 , 0.74503166, 0.61966964, 1.        ,\n",
       "       1.        , 1.        , 1.        , 1.        , 1.        ,\n",
       "       1.        , 1.        , 1.        , 1.        , 0.85034851,\n",
       "       1.        , 1.        , 1.        , 0.83749535, 1.        ,\n",
       "       0.52766235, 1.        , 1.        , 1.        , 1.        ,\n",
       "       1.        , 1.        , 1.        , 1.        , 1.        ,\n",
       "       1.        , 1.        , 1.        , 1.        , 0.73800756,\n",
       "       1.        , 1.        , 1.        , 1.        , 1.        ,\n",
       "       0.20294086, 1.        , 1.        , 0.93327187, 1.        ,\n",
       "       0.34564547, 0.59134097, 1.        , 1.        , 1.        ,\n",
       "       1.        , 0.39894943, 0.40504992, 1.        , 1.        ,\n",
       "       1.        , 1.        , 0.74658095, 0.60512491, 1.        ,\n",
       "       1.        , 1.        , 1.        , 1.        , 0.11716002,\n",
       "       1.        , 0.8678281 , 1.        , 1.        , 1.        ,\n",
       "       0.98403844, 0.83605875, 1.        , 1.        , 1.        ])"
      ]
     },
     "execution_count": 126,
     "metadata": {},
     "output_type": "execute_result"
    }
   ],
   "source": [
    "prox(v, 1, 1, 10, 90)"
   ]
  },
  {
   "cell_type": "code",
   "execution_count": 129,
   "metadata": {},
   "outputs": [
    {
     "data": {
      "text/plain": [
       "array([0.01623587, 0.09057651, 0.02593491, 0.15671977, 0.02451311,\n",
       "       0.07242772, 0.00590466, 0.11061947, 0.05019667, 0.07904551,\n",
       "       0.17082681, 0.14667021, 0.04701814, 0.02535843, 0.12279577,\n",
       "       0.07820879, 0.16286563, 0.03028597, 0.17316105, 0.0207449 ,\n",
       "       0.28630507, 0.03147682, 0.09305478, 0.08796778, 0.1178921 ,\n",
       "       0.22726634, 0.02962443, 0.02771269, 0.02304964, 0.23038208,\n",
       "       0.07853797, 0.14461626, 0.13794677, 0.03735436, 0.12790008,\n",
       "       0.18963572, 0.18401332, 0.07040466, 0.07753457, 0.03163012,\n",
       "       0.18966182, 0.14422358, 0.25329161, 0.03115203, 0.18194683,\n",
       "       0.01962727, 0.05121006, 0.09805767, 0.24457207, 0.15644223,\n",
       "       0.34731521, 0.05140127, 0.08386403, 0.08855946, 0.13579031,\n",
       "       0.06172112, 0.05701102, 0.12853676, 0.15479914, 0.02745141,\n",
       "       0.21712513, 0.03977024, 0.0964594 , 0.11664081, 0.25502389,\n",
       "       0.00754872, 0.10809097, 0.08082589, 0.03471459, 0.04841189,\n",
       "       0.01285686, 0.02199591, 0.08894917, 0.04157916, 0.07146387,\n",
       "       0.0396206 , 0.01483958, 0.0150665 , 0.07819005, 0.13503054,\n",
       "       0.2173439 , 0.06664342, 0.02777031, 0.02250862, 0.18946665,\n",
       "       0.13914506, 0.20668276, 0.179829  , 0.25369201, 0.00435796,\n",
       "       0.09595152, 0.0322803 , 0.07291627, 0.0623465 , 0.04547073,\n",
       "       0.03660294, 0.03109859, 0.20668087, 0.12142537, 0.11253308])"
      ]
     },
     "execution_count": 129,
     "metadata": {},
     "output_type": "execute_result"
    }
   ],
   "source": [
    "prox(v, 1e-6, 1, 10, 10)"
   ]
  },
  {
   "cell_type": "code",
   "execution_count": null,
   "metadata": {},
   "outputs": [],
   "source": []
  }
 ],
 "metadata": {
  "jupytext": {
   "formats": "ipynb,Rmd"
  },
  "kernelspec": {
   "display_name": "Python 3",
   "language": "python",
   "name": "python3"
  },
  "language_info": {
   "codemirror_mode": {
    "name": "ipython",
    "version": 3
   },
   "file_extension": ".py",
   "mimetype": "text/x-python",
   "name": "python",
   "nbconvert_exporter": "python",
   "pygments_lexer": "ipython3",
   "version": "3.8.5"
  }
 },
 "nbformat": 4,
 "nbformat_minor": 4
}
